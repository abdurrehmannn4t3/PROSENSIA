{
  "nbformat": 4,
  "nbformat_minor": 0,
  "metadata": {
    "colab": {
      "provenance": [],
      "authorship_tag": "ABX9TyNXbxPmsEjz8ifdpifAHvyy",
      "include_colab_link": true
    },
    "kernelspec": {
      "name": "python3",
      "display_name": "Python 3"
    },
    "language_info": {
      "name": "python"
    }
  },
  "cells": [
    {
      "cell_type": "markdown",
      "metadata": {
        "id": "view-in-github",
        "colab_type": "text"
      },
      "source": [
        "<a href=\"https://colab.research.google.com/github/abdurrehmannn4t3/PROSENSIA/blob/main/TASK_6.ipynb\" target=\"_parent\"><img src=\"https://colab.research.google.com/assets/colab-badge.svg\" alt=\"Open In Colab\"/></a>"
      ]
    },
    {
      "cell_type": "code",
      "execution_count": 1,
      "metadata": {
        "colab": {
          "base_uri": "https://localhost:8080/"
        },
        "id": "odFtySDoHv4W",
        "outputId": "0a0b5e40-5b0e-4dbe-c64c-77a899799615"
      },
      "outputs": [
        {
          "output_type": "stream",
          "name": "stdout",
          "text": [
            "Enter the number of hours worked: 6\n",
            "Enter the hourly wage rate: 65\n",
            "Total pay is: 390.0\n"
          ]
        }
      ],
      "source": [
        "# Calculate Gross Pay\n",
        "hours_worked = float(input(\"Enter the number of hours worked: \"))\n",
        "hourly_rate = float(input(\"Enter the hourly wage rate: \"))\n",
        "gross_pay = hours_worked * hourly_rate\n",
        "print(f\"Total pay is: {gross_pay}\")\n"
      ]
    },
    {
      "cell_type": "code",
      "source": [
        "# Temperature Conversion\n",
        "celsius = float(input(\"Enter temperature in Celsius: \"))\n",
        "fahrenheit = (celsius * 9/5) + 32\n",
        "print(f\"Temperature in Fahrenheit: {fahrenheit}\")\n"
      ],
      "metadata": {
        "colab": {
          "base_uri": "https://localhost:8080/"
        },
        "id": "pGuJk3XNH3Wa",
        "outputId": "b3fff313-0e0f-4a21-dabf-810b6919202a"
      },
      "execution_count": 2,
      "outputs": [
        {
          "output_type": "stream",
          "name": "stdout",
          "text": [
            "Enter temperature in Celsius: 87\n",
            "Temperature in Fahrenheit: 188.6\n"
          ]
        }
      ]
    },
    {
      "cell_type": "code",
      "source": [
        "# Calculate Factorial\n",
        "num = int(input(\"Enter a number: \"))\n",
        "factorial = 1\n",
        "\n",
        "if num < 0:\n",
        "    print(\"Factorial does not exist for negative numbers.\")\n",
        "elif num == 0:\n",
        "    print(\"The factorial of 0 is 1.\")\n",
        "else:\n",
        "    for i in range(1, num + 1):\n",
        "        factorial *= i\n",
        "    print(f\"The factorial of {num} is {factorial}.\")\n"
      ],
      "metadata": {
        "colab": {
          "base_uri": "https://localhost:8080/"
        },
        "id": "BmtPpww5IGTB",
        "outputId": "bec7c7cc-9edf-4e54-e5bd-6a4594080f10"
      },
      "execution_count": 4,
      "outputs": [
        {
          "output_type": "stream",
          "name": "stdout",
          "text": [
            "Enter a number: 9\n",
            "The factorial of 9 is 362880.\n"
          ]
        }
      ]
    },
    {
      "cell_type": "code",
      "source": [
        "# Number Sign Check\n",
        "number = float(input(\"Enter a number: \"))\n",
        "if number > 0:\n",
        "    print(\"The number is positive.\")\n",
        "elif number < 0:\n",
        "    print(\"The number is negative.\")\n",
        "else:\n",
        "    print(\"The number is zero.\")\n"
      ],
      "metadata": {
        "colab": {
          "base_uri": "https://localhost:8080/"
        },
        "id": "XsZF9xXXH_gT",
        "outputId": "2ec5e8da-7fec-4790-9491-848f25c34c14"
      },
      "execution_count": 3,
      "outputs": [
        {
          "output_type": "stream",
          "name": "stdout",
          "text": [
            "Enter a number: 7\n",
            "The number is positive.\n"
          ]
        }
      ]
    },
    {
      "cell_type": "code",
      "source": [
        "# Divide Two Numbers\n",
        "num1 = float(input(\"Enter the first number: \"))\n",
        "num2 = float(input(\"Enter the second number: \"))\n",
        "\n",
        "if num2 != 0:\n",
        "    result = num1 / num2\n",
        "    print(f\"Result of division: {result}\")\n",
        "else:\n",
        "    print(\"Error: Division by zero is not allowed.\")\n"
      ],
      "metadata": {
        "id": "3wj2p_CpIPSU"
      },
      "execution_count": null,
      "outputs": []
    },
    {
      "cell_type": "code",
      "source": [
        "# Square of a Number\n",
        "num = float(input(\"Enter a number: \"))\n",
        "square = num * num\n",
        "print(f\"Square of {num} is {square}\")\n"
      ],
      "metadata": {
        "colab": {
          "base_uri": "https://localhost:8080/"
        },
        "id": "pqYN5aChISCA",
        "outputId": "d631c13e-b040-496a-8012-ff45ea70f96c"
      },
      "execution_count": 5,
      "outputs": [
        {
          "output_type": "stream",
          "name": "stdout",
          "text": [
            "Enter a number: 8.9\n",
            "Square of 8.9 is 79.21000000000001\n"
          ]
        }
      ]
    }
  ]
}