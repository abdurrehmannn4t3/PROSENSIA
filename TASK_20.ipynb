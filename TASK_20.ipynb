{
  "nbformat": 4,
  "nbformat_minor": 0,
  "metadata": {
    "colab": {
      "provenance": [],
      "authorship_tag": "ABX9TyPH2gNyJmgoaCLLu3LFj/3V",
      "include_colab_link": true
    },
    "kernelspec": {
      "name": "python3",
      "display_name": "Python 3"
    },
    "language_info": {
      "name": "python"
    }
  },
  "cells": [
    {
      "cell_type": "markdown",
      "metadata": {
        "id": "view-in-github",
        "colab_type": "text"
      },
      "source": [
        "<a href=\"https://colab.research.google.com/github/abdurrehmannn4t3/PROSENSIA/blob/main/TASK_20.ipynb\" target=\"_parent\"><img src=\"https://colab.research.google.com/assets/colab-badge.svg\" alt=\"Open In Colab\"/></a>"
      ]
    },
    {
      "cell_type": "code",
      "execution_count": null,
      "metadata": {
        "id": "nyXtqshPQlNK"
      },
      "outputs": [],
      "source": [
        "def load_questions():\n",
        "    # Store questions and answers in a dictionary\n",
        "    questions = {\n",
        "        \"What is the capital of France?\": \"Paris\",\n",
        "        \"What is 2 + 2?\": \"4\",\n",
        "        \"What color do you get by mixing red and white?\": \"Pink\",\n",
        "        \"What is the largest planet in our solar system?\": \"Jupiter\"\n",
        "    }\n",
        "    return questions\n",
        "\n",
        "def ask_question(question, answer):\n",
        "    # Ask the user a question and check if the answer is correct\n",
        "    user_answer = input(question + \" \").strip()\n",
        "    if user_answer.lower() == answer.lower():\n",
        "        print(\"Correct!\")\n",
        "        return True\n",
        "    else:\n",
        "        print(f\"Incorrect. The correct answer is: {answer}.\")\n",
        "        return False\n",
        "\n",
        "def main():\n",
        "    questions = load_questions()\n",
        "    score = 0\n",
        "\n",
        "    # Iterate through the questions and keep track of the score\n",
        "    for question, answer in questions.items():\n",
        "        print()  # Print a blank line for better readability\n",
        "        if ask_question(question, answer):\n",
        "            score += 1\n",
        "\n",
        "    # Display the final score\n",
        "    print(f\"\\nYour final score is {score} out of {len(questions)}.\")\n",
        "\n",
        "if __name__ == \"__main__\":\n",
        "    main()\n"
      ]
    }
  ]
}