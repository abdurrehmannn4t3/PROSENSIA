{
  "nbformat": 4,
  "nbformat_minor": 0,
  "metadata": {
    "colab": {
      "provenance": [],
      "authorship_tag": "ABX9TyOGbklTAW+UzNlqjD5ndRCz",
      "include_colab_link": true
    },
    "kernelspec": {
      "name": "python3",
      "display_name": "Python 3"
    },
    "language_info": {
      "name": "python"
    }
  },
  "cells": [
    {
      "cell_type": "markdown",
      "metadata": {
        "id": "view-in-github",
        "colab_type": "text"
      },
      "source": [
        "<a href=\"https://colab.research.google.com/github/abdurrehmannn4t3/PROSENSIA/blob/main/TASK_11.ipynb\" target=\"_parent\"><img src=\"https://colab.research.google.com/assets/colab-badge.svg\" alt=\"Open In Colab\"/></a>"
      ]
    },
    {
      "cell_type": "code",
      "execution_count": null,
      "metadata": {
        "id": "rWIoJLLUNQki"
      },
      "outputs": [],
      "source": [
        "def string_to_int(s):\n",
        "    try:\n",
        "        return int(s)\n",
        "    except ValueError:\n",
        "        return None\n",
        "\n",
        "# Example usage:\n",
        "print(string_to_int(\"123\"))  # Output: 123\n",
        "print(string_to_int(\"abc\"))  # Output: None\n"
      ]
    },
    {
      "cell_type": "code",
      "source": [
        "def int_to_string(i):\n",
        "    return str(i)\n",
        "\n",
        "# Example usage:\n",
        "print(int_to_string(123))  # Output: \"123\"\n"
      ],
      "metadata": {
        "id": "mwmjNhBZNbB6"
      },
      "execution_count": null,
      "outputs": []
    },
    {
      "cell_type": "code",
      "source": [
        "import math\n",
        "\n",
        "def float_to_int(f):\n",
        "    return math.floor(f)\n",
        "\n",
        "# Example usage:\n",
        "print(float_to_int(3.7))  # Output: 3\n",
        "print(float_to_int(3.2))  # Output: 3\n"
      ],
      "metadata": {
        "id": "SzNFY4--Nc3h"
      },
      "execution_count": null,
      "outputs": []
    },
    {
      "cell_type": "code",
      "source": [
        "def list_of_strings_to_ints(lst):\n",
        "    result = []\n",
        "    for item in lst:\n",
        "        try:\n",
        "            result.append(int(item))\n",
        "        except ValueError:\n",
        "            continue\n",
        "    return result\n",
        "\n",
        "# Example usage:\n",
        "print(list_of_strings_to_ints([\"123\", \"456\", \"abc\", \"789\"]))  # Output: [123, 456, 789]\n"
      ],
      "metadata": {
        "id": "vXnAxUbYNesJ"
      },
      "execution_count": null,
      "outputs": []
    },
    {
      "cell_type": "code",
      "source": [
        "def add_numbers(a, b):\n",
        "    return a + b\n",
        "\n",
        "# Example usage:\n",
        "print(add_numbers(10, 5))  # Output: 15\n"
      ],
      "metadata": {
        "id": "gcVzsWN_NgfF"
      },
      "execution_count": null,
      "outputs": []
    },
    {
      "cell_type": "code",
      "source": [
        "def subtract_numbers(a, b):\n",
        "    return a - b\n",
        "\n",
        "# Example usage:\n",
        "print(subtract_numbers(10, 5))  # Output: 5\n"
      ],
      "metadata": {
        "id": "iD_d053qNiWQ"
      },
      "execution_count": null,
      "outputs": []
    },
    {
      "cell_type": "code",
      "source": [
        "def multiply_numbers(a, b):\n",
        "    return a * b\n",
        "\n",
        "# Example usage:\n",
        "print(multiply_numbers(10, 5))  # Output: 50\n"
      ],
      "metadata": {
        "id": "S1rWgaRZNltq"
      },
      "execution_count": null,
      "outputs": []
    },
    {
      "cell_type": "code",
      "source": [
        "def divide_numbers(a, b):\n",
        "    try:\n",
        "        return a / b\n",
        "    except ZeroDivisionError:\n",
        "        return \"Cannot divide by zero\"\n",
        "\n",
        "# Example usage:\n",
        "print(divide_numbers(10, 2))  # Output: 5.0\n",
        "print(divide_numbers(10, 0))  # Output: Cannot divide by zero\n"
      ],
      "metadata": {
        "id": "Ui2SB7b1Nnxl"
      },
      "execution_count": null,
      "outputs": []
    },
    {
      "cell_type": "code",
      "source": [
        "def concatenate_strings(s1, s2):\n",
        "    return s1 + s2\n",
        "\n",
        "# Example usage:\n",
        "print(concatenate_strings(\"Hello, \", \"World!\"))  # Output: Hello, World!\n"
      ],
      "metadata": {
        "id": "ajm-nRLQNqND"
      },
      "execution_count": null,
      "outputs": []
    },
    {
      "cell_type": "code",
      "source": [
        "def reverse_string(s):\n",
        "    return s[::-1]\n",
        "\n",
        "# Example usage:\n",
        "print(reverse_string(\"Hello\"))  # Output: olleH\n"
      ],
      "metadata": {
        "id": "GYMwWykaNr-0"
      },
      "execution_count": null,
      "outputs": []
    }
  ]
}