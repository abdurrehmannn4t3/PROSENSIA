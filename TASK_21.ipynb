{
  "nbformat": 4,
  "nbformat_minor": 0,
  "metadata": {
    "colab": {
      "provenance": [],
      "authorship_tag": "ABX9TyOVtPbYnvy28rJWgOdjRAWy",
      "include_colab_link": true
    },
    "kernelspec": {
      "name": "python3",
      "display_name": "Python 3"
    },
    "language_info": {
      "name": "python"
    }
  },
  "cells": [
    {
      "cell_type": "markdown",
      "metadata": {
        "id": "view-in-github",
        "colab_type": "text"
      },
      "source": [
        "<a href=\"https://colab.research.google.com/github/abdurrehmannn4t3/PROSENSIA/blob/main/TASK_21.ipynb\" target=\"_parent\"><img src=\"https://colab.research.google.com/assets/colab-badge.svg\" alt=\"Open In Colab\"/></a>"
      ]
    },
    {
      "cell_type": "code",
      "execution_count": null,
      "metadata": {
        "id": "fBTqbTltQIjx"
      },
      "outputs": [],
      "source": [
        "def add_product(inventory):\n",
        "    product_name = input(\"Enter the product name: \").strip()\n",
        "    product_id = input(\"Enter the product ID: \").strip()\n",
        "    quantity = int(input(\"Enter the product quantity: \").strip())\n",
        "    price = float(input(\"Enter the product price: \").strip())\n",
        "\n",
        "    # Check if the product ID already exists\n",
        "    for product in inventory:\n",
        "        if product['ID'] == product_id:\n",
        "            print(\"Product ID already exists. Updating the quantity.\")\n",
        "            product['Quantity'] = quantity\n",
        "            product['Price'] = price\n",
        "            return\n",
        "\n",
        "    # Add new product\n",
        "    inventory.append({\n",
        "        'Name': product_name,\n",
        "        'ID': product_id,\n",
        "        'Quantity': quantity,\n",
        "        'Price': price\n",
        "    })\n",
        "    print(\"Product added successfully.\")\n",
        "\n",
        "def view_inventory(inventory):\n",
        "    if not inventory:\n",
        "        print(\"No products available in the inventory.\")\n",
        "        return\n",
        "\n",
        "    print(\"\\nCurrent Inventory:\")\n",
        "    for product in inventory:\n",
        "        print(f\"Name: {product['Name']}, ID: {product['ID']}, Quantity: {product['Quantity']}, Price: ${product['Price']:.2f}\")\n",
        "\n",
        "def update_product_quantity(inventory):\n",
        "    product_id = input(\"Enter the product ID to update: \").strip()\n",
        "\n",
        "    for product in inventory:\n",
        "        if product['ID'] == product_id:\n",
        "            new_quantity = int(input(\"Enter the new quantity: \").strip())\n",
        "            product['Quantity'] = new_quantity\n",
        "            print(\"Product quantity updated successfully.\")\n",
        "            return\n",
        "\n",
        "    print(\"Product ID not found.\")\n",
        "\n",
        "def remove_product(inventory):\n",
        "    product_id = input(\"Enter the product ID to remove: \").strip()\n",
        "\n",
        "    for product in inventory:\n",
        "        if product['ID'] == product_id:\n",
        "            inventory.remove(product)\n",
        "            print(\"Product removed successfully.\")\n",
        "            return\n",
        "\n",
        "    print(\"Product ID not found.\")\n",
        "\n",
        "def main():\n",
        "    inventory = []\n",
        "\n",
        "    while True:\n",
        "        print(\"\\nInventory Management System\")\n",
        "        print(\"1. Add New Product\")\n",
        "        print(\"2. View Inventory\")\n",
        "        print(\"3. Update Product Quantity\")\n",
        "        print(\"4. Remove Product\")\n",
        "        print(\"5. Exit\")\n",
        "\n",
        "        choice = input(\"Enter your choice (1-5): \").strip()\n",
        "\n",
        "        if choice == '1':\n",
        "            add_product(inventory)\n",
        "        elif choice == '2':\n",
        "            view_inventory(inventory)\n",
        "        elif choice == '3':\n",
        "            update_product_quantity(inventory)\n",
        "        elif choice == '4':\n",
        "            remove_product(inventory)\n",
        "        elif choice == '5':\n",
        "            print(\"Exiting the program.\")\n",
        "            break\n",
        "        else:\n",
        "            print(\"Invalid choice. Please enter a number between 1 and 5.\")\n",
        "\n",
        "if __name__ == \"__main__\":\n",
        "    main()\n"
      ]
    }
  ]
}