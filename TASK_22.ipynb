{
  "nbformat": 4,
  "nbformat_minor": 0,
  "metadata": {
    "colab": {
      "provenance": [],
      "authorship_tag": "ABX9TyNsbYKhHiAxxhUrvAfVn3cl",
      "include_colab_link": true
    },
    "kernelspec": {
      "name": "python3",
      "display_name": "Python 3"
    },
    "language_info": {
      "name": "python"
    }
  },
  "cells": [
    {
      "cell_type": "markdown",
      "metadata": {
        "id": "view-in-github",
        "colab_type": "text"
      },
      "source": [
        "<a href=\"https://colab.research.google.com/github/abdurrehmannn4t3/PROSENSIA/blob/main/TASK_22.ipynb\" target=\"_parent\"><img src=\"https://colab.research.google.com/assets/colab-badge.svg\" alt=\"Open In Colab\"/></a>"
      ]
    },
    {
      "cell_type": "code",
      "execution_count": null,
      "metadata": {
        "colab": {
          "base_uri": "https://localhost:8080/"
        },
        "id": "iSQvHpg2PqDz",
        "outputId": "cf130725-0e10-4f09-9b97-ab7913b5ea62"
      },
      "outputs": [
        {
          "output_type": "stream",
          "name": "stdout",
          "text": [
            "\n",
            "Contact Book\n",
            "1. Add Contact\n",
            "2. Search Contact\n",
            "3. Display All Contacts\n",
            "4. Exit\n",
            "Enter your choice (1-4): 3\n",
            "No contacts to display.\n",
            "\n",
            "Contact Book\n",
            "1. Add Contact\n",
            "2. Search Contact\n",
            "3. Display All Contacts\n",
            "4. Exit\n",
            "Enter your choice (1-4): 2\n",
            "Enter the name of the contact to search for: 33\n",
            "Contact not found.\n",
            "\n",
            "Contact Book\n",
            "1. Add Contact\n",
            "2. Search Contact\n",
            "3. Display All Contacts\n",
            "4. Exit\n",
            "Enter your choice (1-4): 3\n",
            "No contacts to display.\n",
            "\n",
            "Contact Book\n",
            "1. Add Contact\n",
            "2. Search Contact\n",
            "3. Display All Contacts\n",
            "4. Exit\n",
            "Enter your choice (1-4): \n",
            "Invalid choice. Please enter a number between 1 and 4.\n",
            "\n",
            "Contact Book\n",
            "1. Add Contact\n",
            "2. Search Contact\n",
            "3. Display All Contacts\n",
            "4. Exit\n",
            "Enter your choice (1-4): 23\n",
            "Invalid choice. Please enter a number between 1 and 4.\n",
            "\n",
            "Contact Book\n",
            "1. Add Contact\n",
            "2. Search Contact\n",
            "3. Display All Contacts\n",
            "4. Exit\n",
            "Enter your choice (1-4): 3\n",
            "No contacts to display.\n",
            "\n",
            "Contact Book\n",
            "1. Add Contact\n",
            "2. Search Contact\n",
            "3. Display All Contacts\n",
            "4. Exit\n"
          ]
        }
      ],
      "source": [
        "def add_contact(contacts):\n",
        "    name = input(\"Enter the contact's name: \").strip()\n",
        "    phone_number = input(\"Enter the contact's phone number: \").strip()\n",
        "\n",
        "    # Check if the contact already exists\n",
        "    for contact in contacts:\n",
        "        if contact[0].lower() == name.lower():\n",
        "            print(\"Contact already exists.\")\n",
        "            return\n",
        "\n",
        "    # Add the new contact\n",
        "    contacts.append((name, phone_number))\n",
        "    print(\"Contact added successfully.\")\n",
        "\n",
        "def search_contact(contacts):\n",
        "    name = input(\"Enter the name of the contact to search for: \").strip()\n",
        "\n",
        "    found = False\n",
        "    for contact in contacts:\n",
        "        if contact[0].lower() == name.lower():\n",
        "            print(f\"Name: {contact[0]}, Phone Number: {contact[1]}\")\n",
        "            found = True\n",
        "            break\n",
        "\n",
        "    if not found:\n",
        "        print(\"Contact not found.\")\n",
        "\n",
        "def display_contacts(contacts):\n",
        "    if not contacts:\n",
        "        print(\"No contacts to display.\")\n",
        "        return\n",
        "\n",
        "    print(\"Contacts List:\")\n",
        "    for contact in contacts:\n",
        "        print(f\"Name: {contact[0]}, Phone Number: {contact[1]}\")\n",
        "\n",
        "def main():\n",
        "    contacts = []\n",
        "\n",
        "    while True:\n",
        "        print(\"\\nContact Book\")\n",
        "        print(\"1. Add Contact\")\n",
        "        print(\"2. Search Contact\")\n",
        "        print(\"3. Display All Contacts\")\n",
        "        print(\"4. Exit\")\n",
        "\n",
        "        choice = input(\"Enter your choice (1-4): \").strip()\n",
        "\n",
        "        if choice == '1':\n",
        "            add_contact(contacts)\n",
        "        elif choice == '2':\n",
        "            search_contact(contacts)\n",
        "        elif choice == '3':\n",
        "            display_contacts(contacts)\n",
        "        elif choice == '4':\n",
        "            print(\"Exiting the program.\")\n",
        "            break\n",
        "        else:\n",
        "            print(\"Invalid choice. Please enter a number between 1 and 4.\")\n",
        "\n",
        "if __name__ == \"__main__\":\n",
        "    main()\n"
      ]
    },
    {
      "cell_type": "code",
      "source": [],
      "metadata": {
        "id": "_nrFaVkIPvym"
      },
      "execution_count": null,
      "outputs": []
    }
  ]
}