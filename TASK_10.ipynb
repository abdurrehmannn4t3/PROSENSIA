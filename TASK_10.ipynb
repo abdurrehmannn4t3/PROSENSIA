{
  "nbformat": 4,
  "nbformat_minor": 0,
  "metadata": {
    "colab": {
      "provenance": [],
      "authorship_tag": "ABX9TyNPbCimlSKtisOMknU0dhFx",
      "include_colab_link": true
    },
    "kernelspec": {
      "name": "python3",
      "display_name": "Python 3"
    },
    "language_info": {
      "name": "python"
    }
  },
  "cells": [
    {
      "cell_type": "markdown",
      "metadata": {
        "id": "view-in-github",
        "colab_type": "text"
      },
      "source": [
        "<a href=\"https://colab.research.google.com/github/abdurrehmannn4t3/PROSENSIA/blob/main/TASK_10.ipynb\" target=\"_parent\"><img src=\"https://colab.research.google.com/assets/colab-badge.svg\" alt=\"Open In Colab\"/></a>"
      ]
    },
    {
      "cell_type": "code",
      "execution_count": null,
      "metadata": {
        "id": "s3FV7_RAMjXM"
      },
      "outputs": [],
      "source": [
        "def concatenate_and_convert(str1, str2):\n",
        "    result = str1 + str2\n",
        "    if result.isdigit():\n",
        "        return int(result)\n",
        "    return result\n",
        "\n",
        "# Example usage:\n",
        "print(concatenate_and_convert(\"123\", \"456\"))  # Output: 123456 (as integer)\n",
        "print(concatenate_and_convert(\"Hello\", \"World\"))  # Output: HelloWorld\n"
      ]
    },
    {
      "cell_type": "code",
      "source": [
        "def char_at_index(s, index):\n",
        "    if index < 0 or index >= len(s):\n",
        "        return \"Index out of bounds\"\n",
        "    return s[index]\n",
        "\n",
        "# Example usage:\n",
        "print(char_at_index(\"Hello\", 1))  # Output: e\n",
        "print(char_at_index(\"Hello\", 10))  # Output: Index out of bounds\n"
      ],
      "metadata": {
        "id": "iMinQA9IMkgj"
      },
      "execution_count": null,
      "outputs": []
    },
    {
      "cell_type": "code",
      "source": [
        "def string_lengths(strings):\n",
        "    return [len(s) for s in strings]\n",
        "\n",
        "# Example usage:\n",
        "print(string_lengths([\"Hello\", \"World\", \"Python\"]))  # Output: [5, 5, 6]\n"
      ],
      "metadata": {
        "id": "UftBcrPKMnyU"
      },
      "execution_count": null,
      "outputs": []
    },
    {
      "cell_type": "code",
      "source": [
        "def print_characters_with_index(s):\n",
        "    for index, char in enumerate(s):\n",
        "        print(f\"Index {index}: {char}\")\n",
        "\n",
        "# Example usage:\n",
        "print_characters_with_index(\"Hello\")\n",
        "# Output:\n",
        "# Index 0: H\n",
        "# Index 1: e\n",
        "# Index 2: l\n",
        "# Index 3: l\n",
        "# Index 4: o\n"
      ],
      "metadata": {
        "id": "9aqyE-SIMpt9"
      },
      "execution_count": null,
      "outputs": []
    },
    {
      "cell_type": "code",
      "source": [
        "def count_character(s, char):\n",
        "    return s.count(char)\n",
        "\n",
        "# Example usage:\n",
        "print(count_character(\"Hello World\", \"l\"))  # Output: 3\n"
      ],
      "metadata": {
        "id": "0iH4D0vWMrtQ"
      },
      "execution_count": null,
      "outputs": []
    },
    {
      "cell_type": "code",
      "source": [
        "def slice_string(s, start, end):\n",
        "    if start < 0:\n",
        "        start = 0\n",
        "    if end > len(s):\n",
        "        end = len(s)\n",
        "    return s[start:end]\n",
        "\n",
        "# Example usage:\n",
        "print(slice_string(\"Hello World\", 2, 8))  # Output: llo Wo\n",
        "print(slice_string(\"Hello World\", -5, 50))  # Output: Hello World\n"
      ],
      "metadata": {
        "id": "YglbPABRMyiz"
      },
      "execution_count": null,
      "outputs": []
    },
    {
      "cell_type": "code",
      "source": [
        "def slice_string(s, start, end):\n",
        "    if start < 0:\n",
        "        start = 0\n",
        "    if end > len(s):\n",
        "        end = len(s)\n",
        "    return s[start:end]\n",
        "\n",
        "# Example usage:\n",
        "print(slice_string(\"Hello World\", 2, 8))  # Output: llo Wo\n",
        "print(slice_string(\"Hello World\", -5, 50))  # Output: Hello World\n"
      ],
      "metadata": {
        "id": "6nVuXbqaM3rY"
      },
      "execution_count": null,
      "outputs": []
    },
    {
      "cell_type": "code",
      "source": [
        "def compare_strings(str1, str2):\n",
        "    if str1 < str2:\n",
        "        return f\"{str1} comes before {str2}\"\n",
        "    elif str1 > str2:\n",
        "        return f\"{str1} comes after {str2}\"\n",
        "    else:\n",
        "        return f\"{str1} is equal to {str2}\"\n",
        "\n",
        "# Example usage:\n",
        "print(compare_strings(\"apple\", \"banana\"))  # Output: apple comes before banana\n",
        "print(compare_strings(\"grape\", \"apple\"))  # Output: grape comes after apple\n",
        "print(compare_strings(\"orange\", \"orange\"))  # Output: orange is equal to orange\n"
      ],
      "metadata": {
        "id": "MiG5g2ueM4bG"
      },
      "execution_count": null,
      "outputs": []
    },
    {
      "cell_type": "code",
      "source": [
        "def clean_whitespace(s):\n",
        "    return ' '.join(s.strip().split())\n",
        "\n",
        "# Example usage:\n",
        "print(clean_whitespace(\"   Hello   World   \"))  # Output: Hello World\n"
      ],
      "metadata": {
        "id": "eO3-_mJjM6Ti"
      },
      "execution_count": null,
      "outputs": []
    }
  ]
}