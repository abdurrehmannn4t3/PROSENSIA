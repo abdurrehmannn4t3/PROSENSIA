{
  "nbformat": 4,
  "nbformat_minor": 0,
  "metadata": {
    "colab": {
      "provenance": [],
      "authorship_tag": "ABX9TyNTquWe+L2G1Q3qr8xuebO2",
      "include_colab_link": true
    },
    "kernelspec": {
      "name": "python3",
      "display_name": "Python 3"
    },
    "language_info": {
      "name": "python"
    }
  },
  "cells": [
    {
      "cell_type": "markdown",
      "metadata": {
        "id": "view-in-github",
        "colab_type": "text"
      },
      "source": [
        "<a href=\"https://colab.research.google.com/github/abdurrehmannn4t3/PROSENSIA/blob/main/TASK_8.ipynb\" target=\"_parent\"><img src=\"https://colab.research.google.com/assets/colab-badge.svg\" alt=\"Open In Colab\"/></a>"
      ]
    },
    {
      "cell_type": "code",
      "execution_count": null,
      "metadata": {
        "id": "KIb0gWUrKsDY"
      },
      "outputs": [],
      "source": [
        "def print_greeting():\n",
        "    print(\"Hello, World!\")\n",
        "\n",
        "# Call the function\n",
        "print_greeting()\n"
      ]
    },
    {
      "cell_type": "code",
      "source": [
        "def max_value(s):\n",
        "    return max(s)\n",
        "\n",
        "# Test the function with the string \"Hello World\"\n",
        "result = max_value(\"Hello World\")\n",
        "print(result)\n"
      ],
      "metadata": {
        "id": "9dIsa8nxK23N"
      },
      "execution_count": null,
      "outputs": []
    },
    {
      "cell_type": "code",
      "source": [
        "def convert_to_float(n):\n",
        "    return float(n)\n",
        "\n",
        "# Test the function with the integer 42\n",
        "result = convert_to_float(42)\n",
        "print(result)\n"
      ],
      "metadata": {
        "id": "TmoIKtEyK42b"
      },
      "execution_count": null,
      "outputs": []
    },
    {
      "cell_type": "code",
      "source": [
        "def add_numbers(a, b):\n",
        "    return a + b\n",
        "\n",
        "# Call the function with the arguments 10 and 20\n",
        "result = add_numbers(10, 20)\n",
        "print(result)\n"
      ],
      "metadata": {
        "id": "R81rGMJFK988"
      },
      "execution_count": null,
      "outputs": []
    },
    {
      "cell_type": "code",
      "source": [
        "def greet(language_code):\n",
        "    if language_code == 'en':\n",
        "        print(\"Hello\")\n",
        "    elif language_code == 'es':\n",
        "        print(\"Hola\")\n",
        "    elif language_code == 'fr':\n",
        "        print(\"Bonjour\")\n",
        "    else:\n",
        "        print(\"Unknown language code\")\n",
        "\n",
        "# Test the function with each language code\n",
        "greet('en')  # Should print \"Hello\"\n",
        "greet('es')  # Should print \"Hola\"\n",
        "greet('fr')  # Should print \"Bonjour\"\n"
      ],
      "metadata": {
        "id": "qAowjmSbLAHk"
      },
      "execution_count": null,
      "outputs": []
    },
    {
      "cell_type": "code",
      "source": [
        "def compute_pay(hours_worked, hourly_rate):\n",
        "    if hours_worked > 40:\n",
        "        overtime_hours = hours_worked - 40\n",
        "        return (40 * hourly_rate) + (overtime_hours * hourly_rate * 1.5)\n",
        "    else:\n",
        "        return hours_worked * hourly_rate\n",
        "\n",
        "# Use this function to calculate the pay for 45 hours at a rate of 10\n",
        "result = compute_pay(45, 10)\n",
        "print(result)\n"
      ],
      "metadata": {
        "id": "MB7b6jPTLEBJ"
      },
      "execution_count": null,
      "outputs": []
    },
    {
      "cell_type": "code",
      "source": [
        "def print_lyrics():\n",
        "    lyrics = \"\"\"\n",
        "    Twinkle, twinkle, little star,\n",
        "    How I wonder what you are,\n",
        "    Up above the world so high,\n",
        "    Like a diamond in the sky.\n",
        "    \"\"\"\n",
        "    print(lyrics)\n",
        "\n",
        "# Call the function to display the lyrics\n",
        "print_lyrics()\n"
      ],
      "metadata": {
        "id": "bWs1fUlwLF6x"
      },
      "execution_count": null,
      "outputs": []
    },
    {
      "cell_type": "code",
      "source": [
        "def multiply_numbers(a, b):\n",
        "    return a * b\n",
        "\n",
        "# Use this function to multiply 7 and 8, and print the result\n",
        "result = multiply_numbers(7, 8)\n",
        "print(result)\n"
      ],
      "metadata": {
        "id": "bB_SAiINLIAL"
      },
      "execution_count": null,
      "outputs": []
    },
    {
      "cell_type": "code",
      "source": [
        "def calculate_expression():\n",
        "    return 1 + 2 * float(3) / 4 - 5\n",
        "\n",
        "# Call this function and print the result\n",
        "result = calculate_expression()\n",
        "print(result)\n"
      ],
      "metadata": {
        "id": "EXotkxezLJ-6"
      },
      "execution_count": null,
      "outputs": []
    }
  ]
}