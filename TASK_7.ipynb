{
  "nbformat": 4,
  "nbformat_minor": 0,
  "metadata": {
    "colab": {
      "provenance": [],
      "authorship_tag": "ABX9TyN6wsxqjsGAP85i+oem1JUd",
      "include_colab_link": true
    },
    "kernelspec": {
      "name": "python3",
      "display_name": "Python 3"
    },
    "language_info": {
      "name": "python"
    }
  },
  "cells": [
    {
      "cell_type": "markdown",
      "metadata": {
        "id": "view-in-github",
        "colab_type": "text"
      },
      "source": [
        "<a href=\"https://colab.research.google.com/github/abdurrehmannn4t3/PROSENSIA/blob/main/TASK_7.ipynb\" target=\"_parent\"><img src=\"https://colab.research.google.com/assets/colab-badge.svg\" alt=\"Open In Colab\"/></a>"
      ]
    },
    {
      "cell_type": "code",
      "execution_count": null,
      "metadata": {
        "id": "HD5lodjXKDLg"
      },
      "outputs": [],
      "source": [
        "# Program to check if a number is positive, negative, or zero\n",
        "num = int(input(\"Enter an integer: \"))\n",
        "\n",
        "if num > 0:\n",
        "    print(\"Positive\")\n",
        "elif num < 0:\n",
        "    print(\"Negative\")\n",
        "else:\n",
        "    print(\"Zero\")\n"
      ]
    },
    {
      "cell_type": "code",
      "source": [
        "# Original code with a modification to print \"Number is too small\" if x is less than 2\n",
        "x = int(input(\"Enter a number: \"))\n",
        "\n",
        "if x > 2:\n",
        "    print(\"Greater than 2\")\n",
        "else:\n",
        "    print(\"Number is too small\")\n"
      ],
      "metadata": {
        "id": "bEopCwUYKHDo"
      },
      "execution_count": null,
      "outputs": []
    },
    {
      "cell_type": "code",
      "source": [
        "# Correcting the indentation in the given code snippet\n",
        "x = 5\n",
        "if x > 2:\n",
        "    print(\"Bigger than 2\")\n",
        "    print(\"Still bigger\")\n",
        "print(\"Done with 2\")\n"
      ],
      "metadata": {
        "id": "A7AzkVEEKJbM"
      },
      "execution_count": null,
      "outputs": []
    },
    {
      "cell_type": "code",
      "source": [
        "\n",
        "# Program to check if a number is within the range of 10 to 20 inclusive\n",
        "num = int(input(\"Enter an integer: \"))\n",
        "\n",
        "if num >= 10 and num <= 20:\n",
        "    print(\"Within range\")\n",
        "else:\n",
        "    print(\"Out of range\")\n"
      ],
      "metadata": {
        "id": "rGRdMrOnKLR-"
      },
      "execution_count": null,
      "outputs": []
    },
    {
      "cell_type": "code",
      "source": [
        "# Original code modified to print \"Equal\" if x is exactly 2\n",
        "x = int(input(\"Enter a number: \"))\n",
        "\n",
        "if x > 2:\n",
        "    print(\"Greater than 2\")\n",
        "elif x == 2:\n",
        "    print(\"Equal\")\n",
        "else:\n",
        "    print(\"Smaller than 2\")\n"
      ],
      "metadata": {
        "id": "_ws8z6zmKOAX"
      },
      "execution_count": null,
      "outputs": []
    },
    {
      "cell_type": "code",
      "source": [
        "# Program to categorize a number as Small, Medium, or Large\n",
        "num = int(input(\"Enter an integer: \"))\n",
        "\n",
        "if num < 10:\n",
        "    print(\"Small\")\n",
        "elif num <= 20:\n",
        "    print(\"Medium\")\n",
        "else:\n",
        "    print(\"Large\")\n"
      ],
      "metadata": {
        "id": "3WT-3cPLKQNt"
      },
      "execution_count": null,
      "outputs": []
    },
    {
      "cell_type": "code",
      "source": [
        "# Program to compute gross pay with overtime calculation\n",
        "hours_worked = float(input(\"Enter hours worked: \"))\n",
        "hourly_rate = float(input(\"Enter hourly rate: \"))\n",
        "\n",
        "if hours_worked > 40:\n",
        "    overtime_hours = hours_worked - 40\n",
        "    gross_pay = (40 * hourly_rate) + (overtime_hours * hourly_rate * 1.5)\n",
        "else:\n",
        "    gross_pay = hours_worked * hourly_rate\n",
        "\n",
        "print(f\"Gross pay: {gross_pay}\")\n"
      ],
      "metadata": {
        "id": "7m5KtYk0KUKs"
      },
      "execution_count": null,
      "outputs": []
    },
    {
      "cell_type": "code",
      "source": [
        "# Program to check if a number is positive and even, positive but odd, or negative\n",
        "num = int(input(\"Enter an integer: \"))\n",
        "\n",
        "if num > 0 and num % 2 == 0:\n",
        "    print(\"Positive and even\")\n",
        "elif num > 0 and num % 2 != 0:\n",
        "    print(\"Positive but odd\")\n",
        "elif num < 0:\n",
        "    print(\"Negative\")\n",
        "else:\n",
        "    print(\"Zero\")\n"
      ],
      "metadata": {
        "id": "GYXDsSIIKWcE"
      },
      "execution_count": null,
      "outputs": []
    }
  ]
}