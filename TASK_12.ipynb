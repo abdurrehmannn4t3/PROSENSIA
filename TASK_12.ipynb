{
  "nbformat": 4,
  "nbformat_minor": 0,
  "metadata": {
    "colab": {
      "provenance": [],
      "authorship_tag": "ABX9TyMydRfZeIlUMdkecGBPdOnz",
      "include_colab_link": true
    },
    "kernelspec": {
      "name": "python3",
      "display_name": "Python 3"
    },
    "language_info": {
      "name": "python"
    }
  },
  "cells": [
    {
      "cell_type": "markdown",
      "metadata": {
        "id": "view-in-github",
        "colab_type": "text"
      },
      "source": [
        "<a href=\"https://colab.research.google.com/github/abdurrehmannn4t3/PROSENSIA/blob/main/TASK_12.ipynb\" target=\"_parent\"><img src=\"https://colab.research.google.com/assets/colab-badge.svg\" alt=\"Open In Colab\"/></a>"
      ]
    },
    {
      "cell_type": "code",
      "execution_count": null,
      "metadata": {
        "id": "PrYpn_cNOFk3"
      },
      "outputs": [],
      "source": [
        "def string_to_int_with_fallback(s, fallback):\n",
        "    try:\n",
        "        return int(s)\n",
        "    except ValueError:\n",
        "        return fallback\n",
        "\n",
        "# Example usage:\n",
        "print(string_to_int_with_fallback(\"123\", 0))  # Output: 123\n",
        "print(string_to_int_with_fallback(\"abc\", 0))  # Output: 0\n"
      ]
    },
    {
      "cell_type": "code",
      "source": [
        "def int_to_string_with_format(i, format_spec):\n",
        "    return format(i, format_spec)\n",
        "\n",
        "# Example usage:\n",
        "print(int_to_string_with_format(1234, \"04d\"))  # Output: \"1234\" (zero-padded to 4 digits)\n",
        "print(int_to_string_with_format(1234, \"e\"))    # Output: \"1.234000e+03\" (scientific notation)\n"
      ],
      "metadata": {
        "id": "hxckPuNaOKDA"
      },
      "execution_count": null,
      "outputs": []
    },
    {
      "cell_type": "code",
      "source": [
        "import math\n",
        "\n",
        "def float_to_int_with_rounding(f, strategy):\n",
        "    if strategy == \"up\":\n",
        "        return math.ceil(f)\n",
        "    elif strategy == \"down\":\n",
        "        return math.floor(f)\n",
        "    elif strategy == \"nearest\":\n",
        "        return round(f)\n",
        "    else:\n",
        "        raise ValueError(\"Invalid rounding strategy\")\n",
        "\n",
        "# Example usage:\n",
        "print(float_to_int_with_rounding(3.7, \"up\"))      # Output: 4\n",
        "print(float_to_int_with_rounding(3.7, \"down\"))    # Output: 3\n",
        "print(float_to_int_with_rounding(3.7, \"nearest\")) # Output: 4\n"
      ],
      "metadata": {
        "id": "JTMwVfyHOKyc"
      },
      "execution_count": null,
      "outputs": []
    },
    {
      "cell_type": "code",
      "source": [
        "def strings_to_ints_with_logging(lst):\n",
        "    integers = []\n",
        "    error_log = []\n",
        "    for item in lst:\n",
        "        try:\n",
        "            integers.append(int(item))\n",
        "        except ValueError:\n",
        "            error_log.append(f\"Failed to convert '{item}' to integer.\")\n",
        "    return integers, error_log\n",
        "\n",
        "# Example usage:\n",
        "ints, errors = strings_to_ints_with_logging([\"123\", \"abc\", \"456\", \"def\"])\n",
        "print(ints)    # Output: [123, 456]\n",
        "print(errors)  # Output: [\"Failed to convert 'abc' to integer.\", \"Failed to convert 'def' to integer.\"]\n"
      ],
      "metadata": {
        "id": "G4Uc0wLWOPDX"
      },
      "execution_count": null,
      "outputs": []
    },
    {
      "cell_type": "code",
      "source": [
        "class NonNumericInputError(Exception):\n",
        "    pass\n",
        "\n",
        "def add_numbers_with_type_enforcement(a, b):\n",
        "    if not (isinstance(a, (int, float)) and isinstance(b, (int, float))):\n",
        "        raise NonNumericInputError(\"Both inputs must be numbers.\")\n",
        "    return a + b\n",
        "\n",
        "# Example usage:\n",
        "print(add_numbers_with_type_enforcement(10, 5))  # Output: 15\n",
        "# print(add_numbers_with_type_enforcement(10, \"5\"))  # Raises NonNumericInputError\n"
      ],
      "metadata": {
        "id": "H1qopvgDORra"
      },
      "execution_count": null,
      "outputs": []
    },
    {
      "cell_type": "code",
      "source": [
        "class InvalidListError(Exception):\n",
        "    pass\n",
        "\n",
        "def cumulative_subtraction(lst):\n",
        "    if len(lst) < 2:\n",
        "        raise InvalidListError(\"List must contain at least two elements.\")\n",
        "    if not all(isinstance(i, (int, float)) for i in lst):\n",
        "        raise InvalidListError(\"All elements in the list must be numbers.\")\n",
        "\n",
        "    result = lst[0]\n",
        "    for num in lst[1:]:\n",
        "        result -= num\n",
        "    return result\n",
        "\n",
        "# Example usage:\n",
        "print(cumulative_subtraction([100, 20, 30]))  # Output: 50\n",
        "# print(cumulative_subtraction([100, \"20\", 30]))  # Raises InvalidListError\n"
      ],
      "metadata": {
        "id": "rJ4laZrSOSSf"
      },
      "execution_count": null,
      "outputs": []
    },
    {
      "cell_type": "code",
      "source": [
        "def exponentiation_table(base, exp_range):\n",
        "    table = []\n",
        "    for i in range(1, exp_range + 1):\n",
        "        table.append(f\"{base}^{i} = {base ** i}\")\n",
        "    return table\n",
        "\n",
        "# Example usage:\n",
        "print(exponentiation_table(2, 5))\n",
        "# Output: ['2^1 = 2', '2^2 = 4', '2^3 = 8', '2^4 = 16', '2^5 = 32']\n"
      ],
      "metadata": {
        "id": "3Mt_AoDHOYCi"
      },
      "execution_count": null,
      "outputs": []
    },
    {
      "cell_type": "code",
      "source": [
        "class DivisionByZeroError(Exception):\n",
        "    pass\n",
        "\n",
        "def safe_division(a, b, precision=2):\n",
        "    if b == 0:\n",
        "        raise DivisionByZeroError(\"Cannot divide by zero.\")\n",
        "    return round(a / b, precision)\n",
        "\n",
        "# Example usage:\n",
        "print(safe_division(10, 3, 3))  # Output: 3.333\n",
        "# print(safe_division(10, 0))  # Raises DivisionByZeroError\n"
      ],
      "metadata": {
        "id": "z4CuuAajOaNp"
      },
      "execution_count": null,
      "outputs": []
    },
    {
      "cell_type": "code",
      "source": [],
      "metadata": {
        "id": "B23z3kKNObc7"
      },
      "execution_count": null,
      "outputs": []
    },
    {
      "cell_type": "code",
      "source": [
        "import re\n",
        "from collections import Counter\n",
        "\n",
        "def enhanced_palindrome_check(s):\n",
        "    cleaned = re.sub(r'\\W+', '', s).lower()  # Remove non-alphanumeric characters and convert to lowercase\n",
        "    is_palindrome = cleaned == cleaned[::-1]\n",
        "    char_frequency = Counter(cleaned)\n",
        "    return is_palindrome, char_frequency\n",
        "\n",
        "# Example usage:\n",
        "result, freq = enhanced_palindrome_check(\"A man, a plan, a canal, Panama!\")\n",
        "print(result)  # Output: True\n",
        "print(freq)    # Output: Counter({'a': 8, 'n': 4, 'm': 2, 'p': 2, 'l': 2, 'c': 1})\n"
      ],
      "metadata": {
        "id": "9kXJWlc-OeTR"
      },
      "execution_count": null,
      "outputs": []
    }
  ]
}