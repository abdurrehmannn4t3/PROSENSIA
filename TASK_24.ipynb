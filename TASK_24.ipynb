{
  "nbformat": 4,
  "nbformat_minor": 0,
  "metadata": {
    "colab": {
      "provenance": [],
      "authorship_tag": "ABX9TyM779pyp3bEc3ganyNF6hL8",
      "include_colab_link": true
    },
    "kernelspec": {
      "name": "python3",
      "display_name": "Python 3"
    },
    "language_info": {
      "name": "python"
    }
  },
  "cells": [
    {
      "cell_type": "markdown",
      "metadata": {
        "id": "view-in-github",
        "colab_type": "text"
      },
      "source": [
        "<a href=\"https://colab.research.google.com/github/abdurrehmannn4t3/PROSENSIA/blob/main/TASK_24.ipynb\" target=\"_parent\"><img src=\"https://colab.research.google.com/assets/colab-badge.svg\" alt=\"Open In Colab\"/></a>"
      ]
    },
    {
      "cell_type": "code",
      "execution_count": null,
      "metadata": {
        "id": "eyz2eXoxPQWJ"
      },
      "outputs": [],
      "source": [
        "def add_product(inventory):\n",
        "    \"\"\"Add a new product to the inventory.\"\"\"\n",
        "    name = input(\"Enter the product name: \").strip()\n",
        "    if any(product['name'] == name for product in inventory):\n",
        "        print(\"Product already exists in the inventory.\")\n",
        "        return\n",
        "\n",
        "    try:\n",
        "        price = float(input(\"Enter the product price: $\"))\n",
        "        quantity = int(input(\"Enter the product quantity: \"))\n",
        "        if price < 0 or quantity < 0:\n",
        "            print(\"Price and quantity must be non-negative.\")\n",
        "            return\n",
        "\n",
        "        inventory.append({\n",
        "            'name': name,\n",
        "            'price': price,\n",
        "            'quantity': quantity\n",
        "        })\n",
        "        print(\"Product added successfully.\")\n",
        "\n",
        "    except ValueError:\n",
        "        print(\"Invalid input. Please enter numeric values for price and quantity.\")\n",
        "\n",
        "def update_quantity(inventory):\n",
        "    \"\"\"Update the quantity of an existing product.\"\"\"\n",
        "    name = input(\"Enter the product name to update: \").strip()\n",
        "    for product in inventory:\n",
        "        if product['name'] == name:\n",
        "            try:\n",
        "                new_quantity = int(input(\"Enter the new quantity: \"))\n",
        "                if new_quantity < 0:\n",
        "                    print(\"Quantity must be non-negative.\")\n",
        "                    return\n",
        "                product['quantity'] = new_quantity\n",
        "                print(\"Quantity updated successfully.\")\n",
        "                return\n",
        "            except ValueError:\n",
        "                print(\"Invalid input. Please enter a numeric value for quantity.\")\n",
        "                return\n",
        "\n",
        "    print(\"Product not found in the inventory.\")\n",
        "\n",
        "def display_inventory(inventory):\n",
        "    \"\"\"Display all products in the inventory.\"\"\"\n",
        "    if inventory:\n",
        "        print(\"\\nInventory List:\")\n",
        "        for product in inventory:\n",
        "            print(f\"Name: {product['name']}, Price: ${product['price']:.2f}, Quantity: {product['quantity']}\")\n",
        "    else:\n",
        "        print(\"Inventory is empty.\")\n",
        "\n",
        "def main():\n",
        "    inventory = []\n",
        "    while True:\n",
        "        print(\"\\nInventory Management System\")\n",
        "        print(\"1. Add Product\")\n",
        "        print(\"2. Update Quantity\")\n",
        "        print(\"3. Display Inventory\")\n",
        "        print(\"4. Exit\")\n",
        "\n",
        "        choice = input(\"Enter your choice (1/2/3/4): \").strip()\n",
        "\n",
        "        if choice == '1':\n",
        "            add_product(inventory)\n",
        "        elif choice == '2':\n",
        "            update_quantity(inventory)\n",
        "        elif choice == '3':\n",
        "            display_inventory(inventory)\n",
        "        elif choice == '4':\n",
        "            print(\"Exiting the inventory system. Goodbye!\")\n",
        "            break\n",
        "        else:\n",
        "            print(\"Invalid choice. Please enter 1, 2, 3, or 4.\")\n",
        "\n",
        "if __name__ == \"__main__\":\n",
        "    main()\n"
      ]
    }
  ]
}