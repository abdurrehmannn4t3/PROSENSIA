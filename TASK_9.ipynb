{
  "nbformat": 4,
  "nbformat_minor": 0,
  "metadata": {
    "colab": {
      "provenance": [],
      "authorship_tag": "ABX9TyO0EvRgcA6iVpHFmGYPgXd7",
      "include_colab_link": true
    },
    "kernelspec": {
      "name": "python3",
      "display_name": "Python 3"
    },
    "language_info": {
      "name": "python"
    }
  },
  "cells": [
    {
      "cell_type": "markdown",
      "metadata": {
        "id": "view-in-github",
        "colab_type": "text"
      },
      "source": [
        "<a href=\"https://colab.research.google.com/github/abdurrehmannn4t3/PROSENSIA/blob/main/TASK_9.ipynb\" target=\"_parent\"><img src=\"https://colab.research.google.com/assets/colab-badge.svg\" alt=\"Open In Colab\"/></a>"
      ]
    },
    {
      "cell_type": "code",
      "execution_count": null,
      "metadata": {
        "id": "8oS0Zi3VLeiv"
      },
      "outputs": [],
      "source": [
        "# Program to calculate the sum and average of a sequence of numbers\n",
        "total = 0\n",
        "count = 0\n",
        "\n",
        "while True:\n",
        "    user_input = input(\"Enter a number (or 'done' to finish): \")\n",
        "    if user_input.lower() == 'done':\n",
        "        break\n",
        "    try:\n",
        "        number = float(user_input)\n",
        "        total += number\n",
        "        count += 1\n",
        "    except ValueError:\n",
        "        print(\"Please enter a valid number.\")\n",
        "\n",
        "if count > 0:\n",
        "    average = total / count\n",
        "    print(f\"Sum: {total}, Average: {average}\")\n",
        "else:\n",
        "    print(\"No numbers were entered.\")\n"
      ]
    },
    {
      "cell_type": "code",
      "source": [
        "# Program to filter and print numbers greater than a given threshold\n",
        "numbers = [3, 8, 12, 5, 15, 7, 2]\n",
        "threshold = int(input(\"Enter the threshold value: \"))\n",
        "\n",
        "filtered_numbers = [num for num in numbers if num > threshold]\n",
        "print(f\"Numbers greater than {threshold}: {filtered_numbers}\")\n"
      ],
      "metadata": {
        "id": "wYTFg4SELo4o"
      },
      "execution_count": null,
      "outputs": []
    },
    {
      "cell_type": "code",
      "source": [
        "# Program to find the largest and smallest numbers in a list\n",
        "numbers = [int(x) for x in input(\"Enter a list of integers separated by spaces: \").split()]\n",
        "\n",
        "# Finding the largest number\n",
        "largest = numbers[0]\n",
        "for num in numbers[1:]:\n",
        "    if num > largest:\n",
        "        largest = num\n",
        "\n",
        "# Finding the smallest number\n",
        "smallest = numbers[0]\n",
        "for num in numbers[1:]:\n",
        "    if num < smallest:\n",
        "        smallest = num\n",
        "\n",
        "print(f\"Largest number: {largest}, Smallest number: {smallest}\")\n"
      ],
      "metadata": {
        "id": "rWZLZZIxLsJ9"
      },
      "execution_count": null,
      "outputs": []
    },
    {
      "cell_type": "code",
      "source": [
        "# Program to read lines of text and process them based on conditions\n",
        "while True:\n",
        "    line = input(\"Enter a line of text (or 'done' to finish): \")\n",
        "    if line.lower() == 'done':\n",
        "        break\n",
        "    if line.startswith('#'):\n",
        "        continue\n",
        "    print(line)\n"
      ],
      "metadata": {
        "id": "a686joTBLwqp"
      },
      "execution_count": null,
      "outputs": []
    },
    {
      "cell_type": "code",
      "source": [
        "# Program to guess a pre-defined number with a limit on the number of attempts\n",
        "predefined_number = 7\n",
        "attempts = 0\n",
        "max_attempts = 10\n",
        "\n",
        "while attempts < max_attempts:\n",
        "    guess = int(input(\"Guess the number: \"))\n",
        "    attempts += 1\n",
        "    if guess == predefined_number:\n",
        "        print(\"Congratulations! You've guessed the correct number.\")\n",
        "        break\n",
        "    elif attempts == max_attempts:\n",
        "        print(\"Sorry, you've reached the maximum number of attempts.\")\n",
        "    else:\n",
        "        print(\"Try again!\")\n"
      ],
      "metadata": {
        "id": "Ch97UiQaL0zx"
      },
      "execution_count": null,
      "outputs": []
    },
    {
      "cell_type": "code",
      "source": [
        "# Program to print the first N numbers in the Fibonacci sequence\n",
        "N = int(input(\"Enter the value of N: \"))\n",
        "fibonacci_sequence = [0, 1]\n",
        "\n",
        "for i in range(2, N):\n",
        "    next_value = fibonacci_sequence[-1] + fibonacci_sequence[-2]\n",
        "    fibonacci_sequence.append(next_value)\n",
        "\n",
        "print(f\"The first {N} numbers in the Fibonacci sequence: {fibonacci_sequence[:N]}\")\n"
      ],
      "metadata": {
        "id": "pFR80llbL3Ur"
      },
      "execution_count": null,
      "outputs": []
    }
  ]
}