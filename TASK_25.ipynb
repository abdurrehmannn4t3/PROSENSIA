{
  "nbformat": 4,
  "nbformat_minor": 0,
  "metadata": {
    "colab": {
      "provenance": [],
      "authorship_tag": "ABX9TyMX3UsOcu9UCIQzXO2jt9mq",
      "include_colab_link": true
    },
    "kernelspec": {
      "name": "python3",
      "display_name": "Python 3"
    },
    "language_info": {
      "name": "python"
    }
  },
  "cells": [
    {
      "cell_type": "markdown",
      "metadata": {
        "id": "view-in-github",
        "colab_type": "text"
      },
      "source": [
        "<a href=\"https://colab.research.google.com/github/abdurrehmannn4t3/PROSENSIA/blob/main/TASK_25.ipynb\" target=\"_parent\"><img src=\"https://colab.research.google.com/assets/colab-badge.svg\" alt=\"Open In Colab\"/></a>"
      ]
    },
    {
      "cell_type": "code",
      "execution_count": null,
      "metadata": {
        "id": "HnC0kGufO4ct"
      },
      "outputs": [],
      "source": [
        "def add_expense(expenses):\n",
        "    \"\"\"Add a new expense to the tracker.\"\"\"\n",
        "    try:\n",
        "        amount = float(input(\"Enter the expense amount: $\"))\n",
        "        if amount <= 0:\n",
        "            print(\"Amount must be positive.\")\n",
        "            return\n",
        "\n",
        "        category = input(\"Enter the expense category (e.g., food, transportation, entertainment): \").strip().lower()\n",
        "        if category not in [\"food\", \"transportation\", \"entertainment\"]:\n",
        "            print(\"Invalid category. Please enter a valid category.\")\n",
        "            return\n",
        "\n",
        "        description = input(\"Enter a description for the expense (optional): \").strip()\n",
        "\n",
        "        # Add expense to the list\n",
        "        expenses.append({\n",
        "            \"amount\": amount,\n",
        "            \"category\": category,\n",
        "            \"description\": description\n",
        "        })\n",
        "\n",
        "        print(\"Expense added successfully.\")\n",
        "\n",
        "    except ValueError:\n",
        "        print(\"Invalid amount. Please enter a numeric value.\")\n",
        "\n",
        "def display_summary(expenses):\n",
        "    \"\"\"Display a summary of expenses by category.\"\"\"\n",
        "    summary = {}\n",
        "    for expense in expenses:\n",
        "        category = expense[\"category\"]\n",
        "        if category not in summary:\n",
        "            summary[category] = 0\n",
        "        summary[category] += expense[\"amount\"]\n",
        "\n",
        "    if summary:\n",
        "        print(\"\\nExpense Summary:\")\n",
        "        for category, total in summary.items():\n",
        "            print(f\"{category.capitalize()}: ${total:.2f}\")\n",
        "    else:\n",
        "        print(\"No expenses to display.\")\n",
        "\n",
        "def main():\n",
        "    expenses = []\n",
        "    while True:\n",
        "        print(\"\\nExpense Tracker\")\n",
        "        print(\"1. Add Expense\")\n",
        "        print(\"2. Display Summary\")\n",
        "        print(\"3. Exit\")\n",
        "\n",
        "        choice = input(\"Enter your choice (1/2/3): \").strip()\n",
        "\n",
        "        if choice == '1':\n",
        "            add_expense(expenses)\n",
        "        elif choice == '2':\n",
        "            display_summary(expenses)\n",
        "        elif choice == '3':\n",
        "            print(\"Exiting the expense tracker. Goodbye!\")\n",
        "            break\n",
        "        else:\n",
        "            print(\"Invalid choice. Please enter 1, 2, or 3.\")\n",
        "\n",
        "if __name__ == \"__main__\":\n",
        "    main()\n"
      ]
    }
  ]
}